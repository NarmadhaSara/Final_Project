{
    "cells": [
        {
            "metadata": {
                "collapsed": true
            },
            "cell_type": "code",
            "source": "# Import required libraries\nimport pandas as pd\nimport dash\n#import dash_html_components as html\nfrom dash import html\n#import dash_core_components as dcc\nfrom dash import dcc\nfrom dash.dependencies import Input, Output\nimport plotly.express as px\n\n# Read the airline data into pandas dataframe\nspacex_df = pd.read_csv(\"spacex_launch_dash.csv\")\nlaunch_sites_array = spacex_df['Launch Site'].unique()\nsize = len(launch_sites_array)\nsize = size + 1\nlaunch_sites_array.resize(size)\nlaunch_sites_array[size-1] = 'All Sites'\nmax_payload = spacex_df['Payload Mass (kg)'].max()\nmin_payload = spacex_df['Payload Mass (kg)'].min()\n\n# Create a dash application\napp = dash.Dash(__name__)\n\n# Create an app layout\napp.layout = html.Div(children=[html.H1('SpaceX Launch Records Dashboard',\n                                        style={'textAlign': 'center', 'color': '#503D36',\n                                               'font-size': 40}),\n                                # TASK 1: Add a dropdown list to enable Launch Site selection\n                                # The default select value is for ALL sites\n                                dcc.Dropdown(id='site-dropdown',\n                                             options=[\n                                                      #{'label': 'All Sites', 'value': 'ALL'},\n                                                      {'label': i, 'value': i} for i in launch_sites_array\n                                                     ],\n                                             value='ALL',\n                                             placeholder=\"Select a Launch Site\",\n                                             searchable=True),\n                                html.Br(),\n\n                                # TASK 2: Add a pie chart to show the total successful launches count for all sites\n                                # If a specific launch site was selected, show the Success vs. Failed counts for the site\n                                html.Div(dcc.Graph(id='success-pie-chart')),\n                                html.Br(),\n\n                                html.P(\"Payload range (Kg):\"),\n                                # TASK 3: Add a slider to select payload range\n                                dcc.RangeSlider(id='payload-slider',min=0, max=10000, step=1000,\n\t\t\t\t\t\t        marks={0: '0',2500: '2500',5000: '5000',7500: '7500',10000: '10000'},\n                \t\t\t\tvalue=[min_payload, max_payload]),\n\n                                # TASK 4: Add a scatter chart to show the correlation between payload and launch success\n                                html.Div(dcc.Graph(id='success-payload-scatter-chart'))\n                                ])\n\n# TASK 2:\n# Add a callback function for `site-dropdown` as input, `success-pie-chart` as output\n@app.callback(\n        Output(component_id='success-pie-chart', component_property='figure'),\n        Input(component_id='site-dropdown', component_property='value')\n)\n\ndef get_pie_chart(entered_site):\n    filtered_df = spacex_df\n    if entered_site == 'All Sites':\n       fig = px.pie(\n       data_frame = filtered_df,\n       values='class', \n       names='Launch Site', \n       title='Launch Success rate')\n       return(fig)\t\n    else:\n       filtered_df = spacex_df[spacex_df[\"Launch Site\"] == entered_site] \n       fig = px.pie(\n       data_frame = filtered_df,\n       names='class', \n       title='Launch Success rate')\n       return(fig)\t\n\n# TASK 4:\n# Add a callback function for `site-dropdown` and `payload-slider` as inputs, `success-payload-scatter-chart` as output\n@app.callback(\n    Output(component_id='success-payload-scatter-chart', component_property='figure'),\n\t[Input(component_id='site-dropdown', component_property='value'),\n\t Input(component_id='payload-slider', component_property='value')]\n)\n\ndef get_scatter_chart(entered_site,minmax):\n    filtered_df = spacex_df\n    fdf_bool = filtered_df['Payload Mass (kg)'].isin(range(minmax[0],minmax[1]))\n    fdf2 = filtered_df[fdf_bool]\n    print(fdf2.head())\n    #fdf2 = filtered_df[(filtered_df.Payload Mass (kg) > minmax[0]) & (filtered_df.Payload Mass (kg) < minmax[1])]\n    if entered_site == 'All Sites':\n       fig = px.scatter(\n       data_frame = fdf2,\n       x ='Payload Mass (kg)', \n       y ='class', \n       title = 'Correlation between Payload and Success for all sites',\n       color='Booster Version Category')\n       return(fig)\t\n    else:\n       filtered_df = spacex_df[spacex_df[\"Launch Site\"] == entered_site] \n       fdf_bool = filtered_df['Payload Mass (kg)'].isin(range(minmax[0],minmax[1]))\n       fdf2 = filtered_df[fdf_bool]\n       #fdf2 = df[out]\n       #fdf2 = filtered_df[(filtered_df.Payload Mass (kg) > minmax[0]) & (filtered_df.Payload Mass (kg) < minmax[1])]\n       fig = px.scatter(\n       data_frame = fdf2,\n       x ='Payload Mass (kg)', \n       y ='class', \n       title = 'Correlation between Payload and Success for the selected site',\n       color='Booster Version Category')\n       return(fig)\t\n\n# Run the app\nif __name__ == '__main__':\n    app.run_server()\n",
            "execution_count": null,
            "outputs": []
        }
    ],
    "metadata": {
        "kernelspec": {
            "name": "python3",
            "display_name": "Python 3.9",
            "language": "python"
        },
        "language_info": {
            "name": "python",
            "version": "3.9.7",
            "mimetype": "text/x-python",
            "codemirror_mode": {
                "name": "ipython",
                "version": 3
            },
            "pygments_lexer": "ipython3",
            "nbconvert_exporter": "python",
            "file_extension": ".py"
        }
    },
    "nbformat": 4,
    "nbformat_minor": 1
}